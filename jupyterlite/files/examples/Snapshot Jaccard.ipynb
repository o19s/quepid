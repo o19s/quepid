{
  "metadata": {
    "language_info": {
      "codemirror_mode": {
        "name": "python",
        "version": 3
      },
      "file_extension": ".py",
      "mimetype": "text/x-python",
      "name": "python",
      "nbconvert_exporter": "python",
      "pygments_lexer": "ipython3",
      "version": "3.8"
    },
    "kernelspec": {
      "name": "python",
      "display_name": "Python (Pyodide)",
      "language": "python"
    }
  },
  "nbformat_minor": 4,
  "nbformat": 4,
  "cells": [
    {
      "cell_type": "markdown",
      "source": "# Snapshot Jaccard Similarity\n\nTo understand the impact of changes, you can compare the Jaccard Similarity of snapshots.\n\nPlease copy this example and customize it for your own purposes!",
      "metadata": {}
    },
    {
      "cell_type": "markdown",
      "source": "### Imports",
      "metadata": {}
    },
    {
      "cell_type": "code",
      "source": "import pandas as pd\nimport io\nfrom js import fetch\nfrom tqdm import tqdm\ntqdm.pandas()",
      "metadata": {
        "trusted": true
      },
      "execution_count": 1,
      "outputs": []
    },
    {
      "cell_type": "markdown",
      "source": "### Jaccard Subroutines",
      "metadata": {}
    },
    {
      "cell_type": "code",
      "source": "## Calculation of Jaccard Similarity of List 1 and 2\n\ndef jaccard_similarity(list1, list2):\n    print(list1, list2)\n    if list1 == list2: \n        print('the lists are same')\n        return float(1.0)\n    intersection = len(list(set(list1).intersection(list2)))\n    union = (len(set(list1)) + len(set(list2))) - intersection\n    return float(intersection) / union",
      "metadata": {
        "trusted": true
      },
      "execution_count": 2,
      "outputs": []
    },
    {
      "cell_type": "code",
      "source": "## Construction of a comparable list from Snapshot blob\n\ndef construct_comparable_list_from_snapshot_blob(snapshot):\n    for data in snapshot:\n        record = data.split(\"\\n\")\n        #print(record)\n        df = pd.DataFrame(record)\n        df[['query','docid','rating']] = df[0].str.split(',',expand=True)\n        ratings_df= df[['query','docid','rating']]\n        \n        # Drop first row as its just column names\n        ratings_mod_df = ratings_df.drop(index=ratings_df.index[0])\n        \n        # Remove '?' if using ispy else the next step can be ignored\n        ratings_mod_df['docid'] = ratings_mod_df['docid'].str.split('?').str.get(0)\n        #print(ratings_mod_df.head(10))\n        \n        return ratings_mod_df",
      "metadata": {
        "trusted": true
      },
      "execution_count": 3,
      "outputs": []
    },
    {
      "cell_type": "code",
      "source": "## Subroutine for calculating Jaccard Similarity between 2 Snapshots\n\ndef jaccard_similarity(A, B):\n    # Compute Jaccard Similarity\n    nominator = set(A).intersection(set(B))\n    denominator = set(A).union(set(B))\n    Jacc_similarity = len(nominator)/len(denominator)\n    #print(Jacc_similarity) \n    return (Jacc_similarity) ",
      "metadata": {
        "trusted": true
      },
      "execution_count": 4,
      "outputs": []
    },
    {
      "cell_type": "markdown",
      "source": "### Pull data directly from Quepid's snapshot repository to calculate Jaccard Similarity",
      "metadata": {}
    },
    {
      "cell_type": "code",
      "source": "# Retrieve from Quepid API from Case id - 6508 and Snapshot id - 2411\nrating_snapshot_1 = []\nres = await fetch(f'/api/export/ratings/6508.csv?file_format=basic_snapshot&snapshot_id=2411')\nrating_snapshot_1.append(await res.text())\n#print(rating_snapshot_1)\n\n# Retrieve from Quepid API from Case id - 6508 and Snapshot id - 2412\nrating_snapshot_2 = []\nres = await fetch(f'/api/export/ratings/6508.csv?file_format=basic_snapshot&snapshot_id=2412')\nrating_snapshot_2.append(await res.text())\n#print(rating_snapshot_2)",
      "metadata": {
        "tags": [],
        "trusted": true
      },
      "execution_count": 5,
      "outputs": []
    },
    {
      "cell_type": "markdown",
      "source": "### Read and transform data in a dataframe",
      "metadata": {}
    },
    {
      "cell_type": "code",
      "source": "df1 = construct_comparable_list_from_snapshot_blob(rating_snapshot_1)\ndf2 = construct_comparable_list_from_snapshot_blob(rating_snapshot_2)\ndf1 = df1.groupby('query')['docid'].apply(list).reset_index(name=\"results\")\ndf2 = df2.groupby('query')['docid'].apply(list).reset_index(name=\"results\")\n\ndf_jaccard = df1[['query']].copy()\ndf_jaccard['baseline_results'] = df1['results']\ndf_jaccard['comparison_results'] = df2['results']\ndf_jaccard['baseline_count'] = df_jaccard.progress_apply(lambda row: len(row.baseline_results), axis = 1)\ndf_jaccard['comparison_count'] = df_jaccard.progress_apply(lambda row: len(row.comparison_results), axis = 1)",
      "metadata": {
        "tags": [],
        "trusted": true
      },
      "execution_count": 6,
      "outputs": [
        {
          "name": "stderr",
          "text": "/lib/python3.10/site-packages/tqdm/std.py:782: TqdmMonitorWarning: tqdm:disabling monitor support (monitor_interval = 0) due to:\ncan't start new thread\n  t = cls(total=total, **tqdm_kwargs)\n100%|██████████| 66/66 [00:00<00:00, 22001.59it/s]\n100%|██████████| 66/66 [00:00<00:00, 21999.85it/s]\n",
          "output_type": "stream"
        }
      ]
    },
    {
      "cell_type": "markdown",
      "source": "### Add column with jaccard similarity",
      "metadata": {}
    },
    {
      "cell_type": "code",
      "source": "df_jaccard['jaccard_similarity'] = df_jaccard.progress_apply(lambda row:jaccard_similarity(row.baseline_results, row.comparison_results), axis = 1)",
      "metadata": {
        "trusted": true
      },
      "execution_count": 7,
      "outputs": [
        {
          "name": "stderr",
          "text": "100%|██████████| 66/66 [00:00<00:00, 13200.33it/s]\n",
          "output_type": "stream"
        }
      ]
    },
    {
      "cell_type": "code",
      "source": "df_jaccard.head(10)",
      "metadata": {
        "trusted": true
      },
      "execution_count": 8,
      "outputs": [
        {
          "execution_count": 8,
          "output_type": "execute_result",
          "data": {
            "text/plain": "                   query                                   baseline_results  \\\n0                                                                    [None]   \n1                    300  [17927, 1271, 11064, 10439, 2179, 9889, 10153,...   \n2  300 rise of an empire  [53182, 98, 1891, 554152, 522627, 11, 11064, 9...   \n3           a lego movie  [137106, 324849, 280217, 251471, 274862, 50499...   \n4                  annie  [1700, 1162, 25209, 627, 703, 103, 688, 248, 8...   \n5   battlestar galactica                                           [148980]   \n6             black swan  [44214, 128578, 5693, 84332, 411019, 117, 2732...   \n7     christmas vacation  [5825, 80278, 771, 9479, 41521, 10437, 11153, ...   \n8                 cocoon                                     [15389, 11285]   \n9                contact  [14278, 679, 73, 82702, 199, 137113, 68730, 68...   \n\n                                  comparison_results  baseline_count  \\\n0                                             [None]               1   \n1  [17927, 1271, 11064, 10439, 2179, 9889, 10153,...              10   \n2                                            [53182]              10   \n3  [137106, 324849, 280217, 251471, 274862, 50499...              10   \n4  [1700, 1162, 25209, 627, 703, 103, 688, 248, 8...              10   \n5                                           [148980]               1   \n6  [44214, 128578, 5693, 84332, 411019, 117, 2732...              10   \n7  [5825, 80278, 771, 9479, 41521, 10437, 11153, ...              10   \n8                                     [15389, 11285]               2   \n9  [14278, 679, 73, 82702, 199, 137113, 68730, 68...              10   \n\n   comparison_count  jaccard_similarity  \n0                 1                 1.0  \n1                10                 1.0  \n2                 1                 0.1  \n3                10                 1.0  \n4                10                 1.0  \n5                 1                 1.0  \n6                10                 1.0  \n7                10                 1.0  \n8                 2                 1.0  \n9                10                 1.0  ",
            "text/html": "<div>\n<style scoped>\n    .dataframe tbody tr th:only-of-type {\n        vertical-align: middle;\n    }\n\n    .dataframe tbody tr th {\n        vertical-align: top;\n    }\n\n    .dataframe thead th {\n        text-align: right;\n    }\n</style>\n<table border=\"1\" class=\"dataframe\">\n  <thead>\n    <tr style=\"text-align: right;\">\n      <th></th>\n      <th>query</th>\n      <th>baseline_results</th>\n      <th>comparison_results</th>\n      <th>baseline_count</th>\n      <th>comparison_count</th>\n      <th>jaccard_similarity</th>\n    </tr>\n  </thead>\n  <tbody>\n    <tr>\n      <th>0</th>\n      <td></td>\n      <td>[None]</td>\n      <td>[None]</td>\n      <td>1</td>\n      <td>1</td>\n      <td>1.0</td>\n    </tr>\n    <tr>\n      <th>1</th>\n      <td>300</td>\n      <td>[17927, 1271, 11064, 10439, 2179, 9889, 10153,...</td>\n      <td>[17927, 1271, 11064, 10439, 2179, 9889, 10153,...</td>\n      <td>10</td>\n      <td>10</td>\n      <td>1.0</td>\n    </tr>\n    <tr>\n      <th>2</th>\n      <td>300 rise of an empire</td>\n      <td>[53182, 98, 1891, 554152, 522627, 11, 11064, 9...</td>\n      <td>[53182]</td>\n      <td>10</td>\n      <td>1</td>\n      <td>0.1</td>\n    </tr>\n    <tr>\n      <th>3</th>\n      <td>a lego movie</td>\n      <td>[137106, 324849, 280217, 251471, 274862, 50499...</td>\n      <td>[137106, 324849, 280217, 251471, 274862, 50499...</td>\n      <td>10</td>\n      <td>10</td>\n      <td>1.0</td>\n    </tr>\n    <tr>\n      <th>4</th>\n      <td>annie</td>\n      <td>[1700, 1162, 25209, 627, 703, 103, 688, 248, 8...</td>\n      <td>[1700, 1162, 25209, 627, 703, 103, 688, 248, 8...</td>\n      <td>10</td>\n      <td>10</td>\n      <td>1.0</td>\n    </tr>\n    <tr>\n      <th>5</th>\n      <td>battlestar galactica</td>\n      <td>[148980]</td>\n      <td>[148980]</td>\n      <td>1</td>\n      <td>1</td>\n      <td>1.0</td>\n    </tr>\n    <tr>\n      <th>6</th>\n      <td>black swan</td>\n      <td>[44214, 128578, 5693, 84332, 411019, 117, 2732...</td>\n      <td>[44214, 128578, 5693, 84332, 411019, 117, 2732...</td>\n      <td>10</td>\n      <td>10</td>\n      <td>1.0</td>\n    </tr>\n    <tr>\n      <th>7</th>\n      <td>christmas vacation</td>\n      <td>[5825, 80278, 771, 9479, 41521, 10437, 11153, ...</td>\n      <td>[5825, 80278, 771, 9479, 41521, 10437, 11153, ...</td>\n      <td>10</td>\n      <td>10</td>\n      <td>1.0</td>\n    </tr>\n    <tr>\n      <th>8</th>\n      <td>cocoon</td>\n      <td>[15389, 11285]</td>\n      <td>[15389, 11285]</td>\n      <td>2</td>\n      <td>2</td>\n      <td>1.0</td>\n    </tr>\n    <tr>\n      <th>9</th>\n      <td>contact</td>\n      <td>[14278, 679, 73, 82702, 199, 137113, 68730, 68...</td>\n      <td>[14278, 679, 73, 82702, 199, 137113, 68730, 68...</td>\n      <td>10</td>\n      <td>10</td>\n      <td>1.0</td>\n    </tr>\n  </tbody>\n</table>\n</div>"
          },
          "metadata": {}
        }
      ]
    },
    {
      "cell_type": "markdown",
      "source": "### Export data as CSV for reporting and sharing purpose",
      "metadata": {}
    },
    {
      "cell_type": "code",
      "source": "df_jaccard.to_csv('jaccard_similarity_results.csv', encoding='utf-8', index=False)",
      "metadata": {
        "trusted": true
      },
      "execution_count": 9,
      "outputs": []
    },
    {
      "cell_type": "code",
      "source": "df_jaccard['jaccard_similarity'].mean()",
      "metadata": {
        "trusted": true
      },
      "execution_count": 12,
      "outputs": [
        {
          "execution_count": 12,
          "output_type": "execute_result",
          "data": {
            "text/plain": "0.7875583269968297"
          },
          "metadata": {}
        }
      ]
    },
    {
      "cell_type": "code",
      "source": "",
      "metadata": {},
      "execution_count": null,
      "outputs": []
    }
  ]
}