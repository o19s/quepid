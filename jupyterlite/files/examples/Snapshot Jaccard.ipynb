{
  "metadata": {
    "language_info": {
      "codemirror_mode": {
        "name": "python",
        "version": 3
      },
      "file_extension": ".py",
      "mimetype": "text/x-python",
      "name": "python",
      "nbconvert_exporter": "python",
      "pygments_lexer": "ipython3",
      "version": "3.8"
    },
    "kernelspec": {
      "name": "python",
      "display_name": "Python (Pyodide)",
      "language": "python"
    }
  },
  "nbformat_minor": 4,
  "nbformat": 4,
  "cells": [
    {
      "cell_type": "markdown",
      "source": "# Snapshot Jaccard Similarity\n\nTo understand the impact of changes, you can compare the Jaccard Similarity of snapshots.\n\nPlease copy this example and customize it for your own purposes!",
      "metadata": {}
    },
    {
      "cell_type": "markdown",
      "source": "### Imports",
      "metadata": {}
    },
    {
      "cell_type": "code",
      "source": "import pandas as pd\nimport io\nfrom js import fetch\nfrom tqdm import tqdm\ntqdm.pandas()",
      "metadata": {
        "trusted": true
      },
      "execution_count": 2,
      "outputs": []
    },
    {
      "cell_type": "markdown",
      "source": "### Jaccard Subroutines",
      "metadata": {}
    },
    {
      "cell_type": "code",
      "source": "## Calculation of Jaccard Similarity of List 1 and 2\n\ndef jaccard_similarity(list1, list2):\n    print(list1, list2)\n    if list1 == list2: \n        print('the lists are same')\n        return float(1.0)\n    intersection = len(list(set(list1).intersection(list2)))\n    union = (len(set(list1)) + len(set(list2))) - intersection\n    return float(intersection) / union",
      "metadata": {
        "trusted": true
      },
      "execution_count": 4,
      "outputs": []
    },
    {
      "cell_type": "code",
      "source": "## Construction of a comparable list from Snapshot blob\n\ndef construct_comparable_list_from_snapshot_blob(snapshot):\n    for data in snapshot:\n        record = data.split(\"\\n\")\n        #print(record)\n        df = pd.DataFrame(record)\n        df[['query','docid','rating']] = df[0].str.split(',',expand=True)\n        ratings_df= df[['query','docid','rating']]\n        \n        # Drop first row as its just column names\n        ratings_mod_df = ratings_df.drop(index=ratings_df.index[0])\n        \n        # Remove '?' if using ispy else the next step can be ignored\n        ratings_mod_df['docid'] = ratings_mod_df['docid'].str.split('?').str.get(0)\n        #print(ratings_mod_df.head(10))\n        \n        return ratings_mod_df",
      "metadata": {
        "trusted": true
      },
      "execution_count": 6,
      "outputs": []
    },
    {
      "cell_type": "code",
      "source": "## Subroutine for calculating Jaccard Similarity between 2 Snapshots\n\ndef jaccard_similarity(A, B):\n    # Compute Jaccard Similarity\n    nominator = set(A).intersection(set(B))\n    denominator = set(A).union(set(B))\n    Jacc_similarity = len(nominator)/len(denominator)\n    #print(Jacc_similarity) \n    return (Jacc_similarity) ",
      "metadata": {
        "trusted": true
      },
      "execution_count": 7,
      "outputs": []
    },
    {
      "cell_type": "markdown",
      "source": "### Pull data directly from Quepid's snapshot repository to calculate Jaccard Similarity",
      "metadata": {}
    },
    {
      "cell_type": "code",
      "source": "# Retrieve from Quepid API from Case id - 6403 and Snapshot id - 2400\nrating_snapshot_1 = []\nres = await fetch(f'/api/export/ratings/6403.csv?file_format=basic_snapshot&snapshot_id=2400')\nrating_snapshot_1.append(await res.text())\n#print(rating_snapshot_1)\n\n# Retrieve from Quepid API from Case id - 6403 and Snapshot id - 2401\nrating_snapshot_2 = []\nres = await fetch(f'/api/export/ratings/6403.csv?file_format=basic_snapshot&snapshot_id=2401')\nrating_snapshot_2.append(await res.text())\n#print(rating_snapshot_2)",
      "metadata": {
        "tags": [],
        "trusted": true
      },
      "execution_count": 8,
      "outputs": []
    },
    {
      "cell_type": "markdown",
      "source": "### Read and transform data in a dataframe",
      "metadata": {}
    },
    {
      "cell_type": "code",
      "source": "df1 = construct_comparable_list_from_snapshot_blob(rating_snapshot_1)\ndf2 = construct_comparable_list_from_snapshot_blob(rating_snapshot_2)\ndf1 = df1.groupby('query')['docid'].apply(list).reset_index(name=\"results\")\ndf2 = df2.groupby('query')['docid'].apply(list).reset_index(name=\"results\")\n\ndf_jaccard = df1[['query']].copy()\ndf_jaccard['baseline_results'] = df1['results']\ndf_jaccard['comparison_results'] = df2['results']\ndf_jaccard['baseline_count'] = df_jaccard.progress_apply(lambda row: len(row.baseline_results), axis = 1)\ndf_jaccard['comparison_count'] = df_jaccard.progress_apply(lambda row: len(row.comparison_results), axis = 1)",
      "metadata": {
        "collapsed": true,
        "jupyter": {
          "outputs_hidden": true,
          "source_hidden": true
        },
        "tags": [],
        "trusted": true
      },
      "execution_count": 9,
      "outputs": [
        {
          "name": "stdout",
          "text": "   query                                              docid rating\n1    fmr  https://www.hudexchange.info/programs/home/hom...      1\n2    fmr  https://files.hudexchange.info/resources/docum...      3\n3    fmr  https://www.hudexchange.info/resource/4694/pay...      3\n4    fmr  https://files.hudexchange.info/resources/docum...      2\n5    fmr  https://www.hudexchange.info/faqs/programs/811...      3\n6    fmr  https://www.huduser.gov/portal/datasets/fmr/sm...      3\n7    fmr  https://www.hudexchange.info/homelessness-assi...      3\n8    fmr  https://www.hudexchange.info/faqs/reporting-sy...      1\n9    fmr  https://www.hudexchange.info/faqs/programs/con...      2\n10   fmr  https://www.hudexchange.info/programs/public-h...       \n   query                                              docid rating\n1    fmr  https://files.hudexchange.info/resources/docum...      2\n2    fmr  https://files.hudexchange.info/resources/docum...      3\n3    fmr  https://www.hudexchange.info/programs/home/hom...      1\n4    fmr  https://www.hudexchange.info/faqs/programs/811...      3\n5    fmr  https://www.hudexchange.info/resource/4694/pay...      3\n6    fmr  https://www.hudexchange.info/homelessness-assi...      3\n7    fmr  https://www.huduser.gov/portal/datasets/fmr/sm...      3\n8    fmr  https://www.hudexchange.info/faqs/reporting-sy...      1\n9    fmr  https://www.hudexchange.info/faqs/programs/con...      2\n10   fmr  https://files.hudexchange.info/resources/docum...       \n",
          "output_type": "stream"
        },
        {
          "name": "stderr",
          "text": "/lib/python3.10/site-packages/tqdm/std.py:782: TqdmMonitorWarning: tqdm:disabling monitor support (monitor_interval = 0) due to:\ncan't start new thread\n  t = cls(total=total, **tqdm_kwargs)\n100%|██████████| 102/102 [00:00<00:00, 33999.76it/s]\n100%|██████████| 102/102 [00:00<00:00, 33999.76it/s]\n",
          "output_type": "stream"
        }
      ]
    },
    {
      "cell_type": "markdown",
      "source": "### Add column with jaccard similarity",
      "metadata": {}
    },
    {
      "cell_type": "code",
      "source": "df_jaccard['jaccard_similarity'] = df_jaccard.progress_apply(lambda row:jaccard_similarity(row.baseline_results, row.comparison_results), axis = 1)",
      "metadata": {
        "trusted": true
      },
      "execution_count": 10,
      "outputs": [
        {
          "name": "stderr",
          "text": "100%|██████████| 102/102 [00:00<00:00, 16999.21it/s]\n",
          "output_type": "stream"
        }
      ]
    },
    {
      "cell_type": "code",
      "source": "df_jaccard.head(10)",
      "metadata": {
        "trusted": true
      },
      "execution_count": 11,
      "outputs": [
        {
          "execution_count": 11,
          "output_type": "execute_result",
          "data": {
            "text/plain": "                query                                   baseline_results  \\\n0                                                                 [None]   \n1           2 cfr 200  [https://www.hudexchange.info/resource/5621/fa...   \n2                9902  [https://www.hudexchange.info/programs/housing...   \n3                 aaq  [https://www.hudexchange.info/trainings/course...   \n4                affh  [https://www.hudexchange.info/trainings/course...   \n5                ahar  [https://www.hudexchange.info/homelessness-ass...   \n6  annual action plan  [https://www.hudexchange.info/programs/consoli...   \n7         application  [https://www.hudexchange.info/programs/housing...   \n8               apply  [https://www.hudexchange.info/faqs/programs/ne...   \n9                 apr  [https://www.hudexchange.info/programs/e-snaps...   \n\n                                  comparison_results  baseline_count  \\\n0                                             [None]               1   \n1  [https://www.hudexchange.info/resource/5621/fa...              10   \n2  [https://www.hudexchange.info/programs/housing...              10   \n3  [https://www.hudexchange.info/trainings/course...              10   \n4  [https://www.hudexchange.info/trainings/course...              10   \n5  [https://www.hudexchange.info/resource/1227/in...              10   \n6  [https://www.hudexchange.info/programs/consoli...              10   \n7  [https://www.hudexchange.info/faqs/programs/yo...              10   \n8  [https://www.hudexchange.info/faqs/programs/ho...              10   \n9  [https://www.hudexchange.info/programs/e-snaps...              10   \n\n   comparison_count  jaccard_similarity  \n0                 1            1.000000  \n1                10            1.000000  \n2                10            1.000000  \n3                10            1.000000  \n4                10            0.538462  \n5                20            0.750000  \n6                20            1.000000  \n7                10            1.000000  \n8                10            0.538462  \n9                10            1.000000  ",
            "text/html": "<div>\n<style scoped>\n    .dataframe tbody tr th:only-of-type {\n        vertical-align: middle;\n    }\n\n    .dataframe tbody tr th {\n        vertical-align: top;\n    }\n\n    .dataframe thead th {\n        text-align: right;\n    }\n</style>\n<table border=\"1\" class=\"dataframe\">\n  <thead>\n    <tr style=\"text-align: right;\">\n      <th></th>\n      <th>query</th>\n      <th>baseline_results</th>\n      <th>comparison_results</th>\n      <th>baseline_count</th>\n      <th>comparison_count</th>\n      <th>jaccard_similarity</th>\n    </tr>\n  </thead>\n  <tbody>\n    <tr>\n      <th>0</th>\n      <td></td>\n      <td>[None]</td>\n      <td>[None]</td>\n      <td>1</td>\n      <td>1</td>\n      <td>1.000000</td>\n    </tr>\n    <tr>\n      <th>1</th>\n      <td>2 cfr 200</td>\n      <td>[https://www.hudexchange.info/resource/5621/fa...</td>\n      <td>[https://www.hudexchange.info/resource/5621/fa...</td>\n      <td>10</td>\n      <td>10</td>\n      <td>1.000000</td>\n    </tr>\n    <tr>\n      <th>2</th>\n      <td>9902</td>\n      <td>[https://www.hudexchange.info/programs/housing...</td>\n      <td>[https://www.hudexchange.info/programs/housing...</td>\n      <td>10</td>\n      <td>10</td>\n      <td>1.000000</td>\n    </tr>\n    <tr>\n      <th>3</th>\n      <td>aaq</td>\n      <td>[https://www.hudexchange.info/trainings/course...</td>\n      <td>[https://www.hudexchange.info/trainings/course...</td>\n      <td>10</td>\n      <td>10</td>\n      <td>1.000000</td>\n    </tr>\n    <tr>\n      <th>4</th>\n      <td>affh</td>\n      <td>[https://www.hudexchange.info/trainings/course...</td>\n      <td>[https://www.hudexchange.info/trainings/course...</td>\n      <td>10</td>\n      <td>10</td>\n      <td>0.538462</td>\n    </tr>\n    <tr>\n      <th>5</th>\n      <td>ahar</td>\n      <td>[https://www.hudexchange.info/homelessness-ass...</td>\n      <td>[https://www.hudexchange.info/resource/1227/in...</td>\n      <td>10</td>\n      <td>20</td>\n      <td>0.750000</td>\n    </tr>\n    <tr>\n      <th>6</th>\n      <td>annual action plan</td>\n      <td>[https://www.hudexchange.info/programs/consoli...</td>\n      <td>[https://www.hudexchange.info/programs/consoli...</td>\n      <td>10</td>\n      <td>20</td>\n      <td>1.000000</td>\n    </tr>\n    <tr>\n      <th>7</th>\n      <td>application</td>\n      <td>[https://www.hudexchange.info/programs/housing...</td>\n      <td>[https://www.hudexchange.info/faqs/programs/yo...</td>\n      <td>10</td>\n      <td>10</td>\n      <td>1.000000</td>\n    </tr>\n    <tr>\n      <th>8</th>\n      <td>apply</td>\n      <td>[https://www.hudexchange.info/faqs/programs/ne...</td>\n      <td>[https://www.hudexchange.info/faqs/programs/ho...</td>\n      <td>10</td>\n      <td>10</td>\n      <td>0.538462</td>\n    </tr>\n    <tr>\n      <th>9</th>\n      <td>apr</td>\n      <td>[https://www.hudexchange.info/programs/e-snaps...</td>\n      <td>[https://www.hudexchange.info/programs/e-snaps...</td>\n      <td>10</td>\n      <td>10</td>\n      <td>1.000000</td>\n    </tr>\n  </tbody>\n</table>\n</div>"
          },
          "metadata": {}
        }
      ]
    },
    {
      "cell_type": "markdown",
      "source": "### Export data as CSV for reporting and sharing purpose",
      "metadata": {}
    },
    {
      "cell_type": "code",
      "source": "df_jaccard.to_csv('jaccard_similarity_results.csv', encoding='utf-8', index=False)",
      "metadata": {
        "trusted": true
      },
      "execution_count": 13,
      "outputs": []
    }
  ]
}