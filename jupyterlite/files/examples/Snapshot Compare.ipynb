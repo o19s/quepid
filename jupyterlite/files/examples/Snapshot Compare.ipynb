{
  "metadata": {
    "language_info": {
      "codemirror_mode": {
        "name": "python",
        "version": 3
      },
      "file_extension": ".py",
      "mimetype": "text/x-python",
      "name": "python",
      "nbconvert_exporter": "python",
      "pygments_lexer": "ipython3",
      "version": "3.8"
    },
    "kernelspec": {
      "name": "python",
      "display_name": "Python (Pyodide)",
      "language": "python"
    }
  },
  "nbformat_minor": 4,
  "nbformat": 4,
  "cells": [
    {
      "cell_type": "markdown",
      "source": "# Compare Snapshots \nTo understand the impact of changes, you can compare multiple snapshots together.   The final visulaization shows you a histogram of your snapshots overlaid with each other.\nThis visualization assumes you are using the same scorer and query set for all the snapshots.   It also assumes the snapshots come from the same case!\n\nPlease copy this example and customize it for your own purposes!",
      "metadata": {}
    },
    {
      "cell_type": "markdown",
      "source": "### Imports",
      "metadata": {}
    },
    {
      "cell_type": "code",
      "source": "%matplotlib inline",
      "metadata": {
        "trusted": true
      },
      "execution_count": 1,
      "outputs": []
    },
    {
      "cell_type": "code",
      "source": "from js import fetch\nimport pandas as pd\nfrom datetime import datetime\nimport random\nfrom matplotlib import pyplot",
      "metadata": {
        "trusted": true
      },
      "execution_count": 2,
      "outputs": []
    },
    {
      "cell_type": "markdown",
      "source": "## Define the Data You Want",
      "metadata": {}
    },
    {
      "cell_type": "code",
      "source": "CASE_ID = 6   # Your Case\nSNAPSHOT_IDS = [1,2]   # Your Snapshots.  Use the Compare Snapshot function in Quepid to see what the specific ID's are of your snapshots.",
      "metadata": {
        "trusted": true
      },
      "execution_count": 3,
      "outputs": []
    },
    {
      "cell_type": "markdown",
      "source": "### Pull data directly from Quepid's snapshot repository",
      "metadata": {}
    },
    {
      "cell_type": "code",
      "source": "\n# Retrieve from Quepid API all the snapshots\nsnapshots = []\nfor snapshot_id in SNAPSHOT_IDS:\n    res = await fetch(f'/api/cases/{CASE_ID}/snapshots/{snapshot_id}.json')\n    snapshots.append(await res.json())",
      "metadata": {
        "trusted": true
      },
      "execution_count": 4,
      "outputs": []
    },
    {
      "cell_type": "markdown",
      "source": "### Read in data to a dataframe",
      "metadata": {}
    },
    {
      "cell_type": "code",
      "source": "queryData = []\nsnapshotNames = {}\n# faking the data (for now)\nfor snapshot in snapshots:\n    queryToScoreDict = {}\n    queryToNumFoundDict = {}\n    snapshotNames[snapshot.id] = snapshot.name\n    for snapshotScore in snapshot.scores:\n        queryToScoreDict[snapshotScore.query_id] = snapshotScore.score\n        queryToNumFoundDict[snapshotScore.query_id] = snapshotScore.number_of_results\n    for snapshotQuery in snapshot.queries:\n        queryData.append({'snapshot_id':snapshot.id, 'query':snapshotQuery.query_text, 'numfound':queryToNumFoundDict[snapshotQuery.query_id], 'score':queryToScoreDict[snapshotQuery.query_id]})\n    \ndf = pd.DataFrame(queryData)\ndf",
      "metadata": {
        "trusted": true
      },
      "execution_count": 5,
      "outputs": [
        {
          "execution_count": 5,
          "output_type": "execute_result",
          "data": {
            "text/plain": "   snapshot_id                           query  numfound     score\n0            1                       star wars       267  1.000000\n1            1  movie about a boxer who climbs      7970  0.737585\n2            1                       star trek       253  1.000000\n3            2                       star wars       267  0.587157\n4            2  movie about a boxer who climbs      7970  0.737585\n5            2                       star trek       253  0.642821",
            "text/html": "<div>\n<style scoped>\n    .dataframe tbody tr th:only-of-type {\n        vertical-align: middle;\n    }\n\n    .dataframe tbody tr th {\n        vertical-align: top;\n    }\n\n    .dataframe thead th {\n        text-align: right;\n    }\n</style>\n<table border=\"1\" class=\"dataframe\">\n  <thead>\n    <tr style=\"text-align: right;\">\n      <th></th>\n      <th>snapshot_id</th>\n      <th>query</th>\n      <th>numfound</th>\n      <th>score</th>\n    </tr>\n  </thead>\n  <tbody>\n    <tr>\n      <th>0</th>\n      <td>1</td>\n      <td>star wars</td>\n      <td>267</td>\n      <td>1.000000</td>\n    </tr>\n    <tr>\n      <th>1</th>\n      <td>1</td>\n      <td>movie about a boxer who climbs</td>\n      <td>7970</td>\n      <td>0.737585</td>\n    </tr>\n    <tr>\n      <th>2</th>\n      <td>1</td>\n      <td>star trek</td>\n      <td>253</td>\n      <td>1.000000</td>\n    </tr>\n    <tr>\n      <th>3</th>\n      <td>2</td>\n      <td>star wars</td>\n      <td>267</td>\n      <td>0.587157</td>\n    </tr>\n    <tr>\n      <th>4</th>\n      <td>2</td>\n      <td>movie about a boxer who climbs</td>\n      <td>7970</td>\n      <td>0.737585</td>\n    </tr>\n    <tr>\n      <th>5</th>\n      <td>2</td>\n      <td>star trek</td>\n      <td>253</td>\n      <td>0.642821</td>\n    </tr>\n  </tbody>\n</table>\n</div>"
          },
          "metadata": {}
        }
      ]
    },
    {
      "cell_type": "markdown",
      "source": "## Create a histogram to compare snapshots\n\nThe snapshots that are represented in fill color.",
      "metadata": {}
    },
    {
      "cell_type": "code",
      "source": "for snapshot_id in SNAPSHOT_IDS:\n    pyplot.hist(df.loc[df['snapshot_id'] == snapshot_id]['score'], 20, alpha=0.5, label=f'{snapshotNames[snapshot_id]} ({snapshot_id})')\npyplot.legend(loc='upper right')\npyplot.show()",
      "metadata": {
        "trusted": true
      },
      "execution_count": 6,
      "outputs": [
        {
          "output_type": "display_data",
          "data": {
            "text/plain": "<pyolite.display.Image at 0x3b81f40>",
            "image/png": "[encoded data removed]"
          },
          "metadata": {}
        },
        {
          "output_type": "display_data",
          "data": {
            "text/plain": "<Figure size 640x480 with 0 Axes>"
          },
          "metadata": {}
        }
      ]
    },
    {
      "cell_type": "code",
      "source": "",
      "metadata": {},
      "execution_count": null,
      "outputs": []
    }
  ]
}