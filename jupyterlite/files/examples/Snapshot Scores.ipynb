{
  "metadata": {
    "language_info": {
      "codemirror_mode": {
        "name": "python",
        "version": 3
      },
      "file_extension": ".py",
      "mimetype": "text/x-python",
      "name": "python",
      "nbconvert_exporter": "python",
      "pygments_lexer": "ipython3",
      "version": "3.8"
    },
    "kernelspec": {
      "name": "python",
      "display_name": "Python (Pyodide)",
      "language": "python"
    }
  },
  "nbformat_minor": 4,
  "nbformat": 4,
  "cells": [
    {
      "cell_type": "code",
      "source": "%matplotlib inline",
      "metadata": {
        "trusted": true
      },
      "execution_count": 1,
      "outputs": []
    },
    {
      "cell_type": "code",
      "source": "from js import fetch\nimport pandas as pd\nfrom datetime import datetime\nimport random",
      "metadata": {
        "trusted": true
      },
      "execution_count": 2,
      "outputs": []
    },
    {
      "cell_type": "code",
      "source": "\n\ndef str_to_date(str):\n    return datetime.strptime(str, '%Y-%m-%d').date()\n\ndata = [{'DATE':str_to_date('2020-01-01'), 'TYPE': 'TypeA', 'SALES': 1000},\n        {'DATE':str_to_date('2020-01-01'), 'TYPE': 'TypeB', 'SALES': 200},\n        {'DATE':str_to_date('2020-01-01'), 'TYPE': 'TypeC', 'SALES': 300},\n        {'DATE':str_to_date('2020-02-01'), 'TYPE': 'TypeA', 'SALES': 700},\n        {'DATE':str_to_date('2020-02-01'), 'TYPE': 'TypeB', 'SALES': 400},\n        {'DATE':str_to_date('2020-02-01'), 'TYPE': 'TypeC', 'SALES': 500},\n        {'DATE':str_to_date('2020-03-01'), 'TYPE': 'TypeA', 'SALES': 300},\n        {'DATE':str_to_date('2020-03-01'), 'TYPE': 'TypeB', 'SALES': 900},\n        {'DATE':str_to_date('2020-03-01'), 'TYPE': 'TypeC', 'SALES': 100}\n       ]\ndf = pd.DataFrame(data)\ndf",
      "metadata": {
        "trusted": true
      },
      "execution_count": 3,
      "outputs": [
        {
          "execution_count": 3,
          "output_type": "execute_result",
          "data": {
            "text/plain": "         DATE   TYPE  SALES\n0  2020-01-01  TypeA   1000\n1  2020-01-01  TypeB    200\n2  2020-01-01  TypeC    300\n3  2020-02-01  TypeA    700\n4  2020-02-01  TypeB    400\n5  2020-02-01  TypeC    500\n6  2020-03-01  TypeA    300\n7  2020-03-01  TypeB    900\n8  2020-03-01  TypeC    100",
            "text/html": "<div>\n<style scoped>\n    .dataframe tbody tr th:only-of-type {\n        vertical-align: middle;\n    }\n\n    .dataframe tbody tr th {\n        vertical-align: top;\n    }\n\n    .dataframe thead th {\n        text-align: right;\n    }\n</style>\n<table border=\"1\" class=\"dataframe\">\n  <thead>\n    <tr style=\"text-align: right;\">\n      <th></th>\n      <th>DATE</th>\n      <th>TYPE</th>\n      <th>SALES</th>\n    </tr>\n  </thead>\n  <tbody>\n    <tr>\n      <th>0</th>\n      <td>2020-01-01</td>\n      <td>TypeA</td>\n      <td>1000</td>\n    </tr>\n    <tr>\n      <th>1</th>\n      <td>2020-01-01</td>\n      <td>TypeB</td>\n      <td>200</td>\n    </tr>\n    <tr>\n      <th>2</th>\n      <td>2020-01-01</td>\n      <td>TypeC</td>\n      <td>300</td>\n    </tr>\n    <tr>\n      <th>3</th>\n      <td>2020-02-01</td>\n      <td>TypeA</td>\n      <td>700</td>\n    </tr>\n    <tr>\n      <th>4</th>\n      <td>2020-02-01</td>\n      <td>TypeB</td>\n      <td>400</td>\n    </tr>\n    <tr>\n      <th>5</th>\n      <td>2020-02-01</td>\n      <td>TypeC</td>\n      <td>500</td>\n    </tr>\n    <tr>\n      <th>6</th>\n      <td>2020-03-01</td>\n      <td>TypeA</td>\n      <td>300</td>\n    </tr>\n    <tr>\n      <th>7</th>\n      <td>2020-03-01</td>\n      <td>TypeB</td>\n      <td>900</td>\n    </tr>\n    <tr>\n      <th>8</th>\n      <td>2020-03-01</td>\n      <td>TypeC</td>\n      <td>100</td>\n    </tr>\n  </tbody>\n</table>\n</div>"
          },
          "metadata": {}
        }
      ]
    },
    {
      "cell_type": "code",
      "source": "df.plot(kind='bar', x='DATE', y='SALES')",
      "metadata": {
        "trusted": true
      },
      "execution_count": 4,
      "outputs": [
        {
          "execution_count": 4,
          "output_type": "execute_result",
          "data": {
            "text/plain": "<AxesSubplot:xlabel='DATE'>"
          },
          "metadata": {}
        },
        {
          "output_type": "display_data",
          "data": {
            "text/plain": "<Figure size 432x288 with 1 Axes>",
            "image/png": "[encoded data removed]"
          },
          "metadata": {
            "needs_background": "light"
          }
        }
      ]
    },
    {
      "cell_type": "code",
      "source": "res = await fetch('https://quepid-pr-544.herokuapp.com/api/cases/2293/snapshots/1160.json')\nsnapshot = await res.json()",
      "metadata": {
        "trusted": true
      },
      "execution_count": 5,
      "outputs": []
    },
    {
      "cell_type": "code",
      "source": "queryData = []\n\nfor snapshotQuery in snapshot.queries:\n    queryData.append({'query':snapshotQuery.query_text, 'score':random.uniform(0, 1)})",
      "metadata": {
        "trusted": true
      },
      "execution_count": 6,
      "outputs": []
    },
    {
      "cell_type": "code",
      "source": "df = pd.DataFrame(queryData)\ndf",
      "metadata": {
        "trusted": true
      },
      "execution_count": 7,
      "outputs": [
        {
          "execution_count": 7,
          "output_type": "execute_result",
          "data": {
            "text/plain": "  query     score\n0  star  0.980639\n1   bob  0.480407\n2  dude  0.670317",
            "text/html": "<div>\n<style scoped>\n    .dataframe tbody tr th:only-of-type {\n        vertical-align: middle;\n    }\n\n    .dataframe tbody tr th {\n        vertical-align: top;\n    }\n\n    .dataframe thead th {\n        text-align: right;\n    }\n</style>\n<table border=\"1\" class=\"dataframe\">\n  <thead>\n    <tr style=\"text-align: right;\">\n      <th></th>\n      <th>query</th>\n      <th>score</th>\n    </tr>\n  </thead>\n  <tbody>\n    <tr>\n      <th>0</th>\n      <td>star</td>\n      <td>0.980639</td>\n    </tr>\n    <tr>\n      <th>1</th>\n      <td>bob</td>\n      <td>0.480407</td>\n    </tr>\n    <tr>\n      <th>2</th>\n      <td>dude</td>\n      <td>0.670317</td>\n    </tr>\n  </tbody>\n</table>\n</div>"
          },
          "metadata": {}
        }
      ]
    },
    {
      "cell_type": "code",
      "source": "df.groupby(pd.cut(df[\"score\"], 5))",
      "metadata": {
        "trusted": true
      },
      "execution_count": 8,
      "outputs": [
        {
          "execution_count": 8,
          "output_type": "execute_result",
          "data": {
            "text/plain": "<pandas.core.groupby.generic.DataFrameGroupBy object at 0x3a526e8>"
          },
          "metadata": {}
        }
      ]
    },
    {
      "cell_type": "code",
      "source": "df",
      "metadata": {
        "trusted": true
      },
      "execution_count": 9,
      "outputs": [
        {
          "execution_count": 9,
          "output_type": "execute_result",
          "data": {
            "text/plain": "  query     score\n0  star  0.980639\n1   bob  0.480407\n2  dude  0.670317",
            "text/html": "<div>\n<style scoped>\n    .dataframe tbody tr th:only-of-type {\n        vertical-align: middle;\n    }\n\n    .dataframe tbody tr th {\n        vertical-align: top;\n    }\n\n    .dataframe thead th {\n        text-align: right;\n    }\n</style>\n<table border=\"1\" class=\"dataframe\">\n  <thead>\n    <tr style=\"text-align: right;\">\n      <th></th>\n      <th>query</th>\n      <th>score</th>\n    </tr>\n  </thead>\n  <tbody>\n    <tr>\n      <th>0</th>\n      <td>star</td>\n      <td>0.980639</td>\n    </tr>\n    <tr>\n      <th>1</th>\n      <td>bob</td>\n      <td>0.480407</td>\n    </tr>\n    <tr>\n      <th>2</th>\n      <td>dude</td>\n      <td>0.670317</td>\n    </tr>\n  </tbody>\n</table>\n</div>"
          },
          "metadata": {}
        }
      ]
    },
    {
      "cell_type": "code",
      "source": "df.hist()",
      "metadata": {
        "trusted": true
      },
      "execution_count": 10,
      "outputs": [
        {
          "execution_count": 10,
          "output_type": "execute_result",
          "data": {
            "text/plain": "array([[<AxesSubplot:title={'center':'score'}>]], dtype=object)"
          },
          "metadata": {}
        },
        {
          "output_type": "display_data",
          "data": {
            "text/plain": "<Figure size 432x288 with 1 Axes>",
            "image/png": "[encoded data removed]"
          },
          "metadata": {
            "needs_background": "light"
          }
        }
      ]
    },
    {
      "cell_type": "code",
      "source": "bins = [0,0.35,0.7,1]\ndf = df.groupby(pd.cut(df['score'], bins=bins)).count()\ndf.plot(kind='bar')",
      "metadata": {
        "trusted": true
      },
      "execution_count": 12,
      "outputs": [
        {
          "execution_count": 12,
          "output_type": "execute_result",
          "data": {
            "text/plain": "<AxesSubplot:xlabel='score'>"
          },
          "metadata": {}
        },
        {
          "output_type": "display_data",
          "data": {
            "text/plain": "<Figure size 432x288 with 1 Axes>",
            "image/png": "[encoded data removed]"
          },
          "metadata": {
            "needs_background": "light"
          }
        }
      ]
    },
    {
      "cell_type": "code",
      "source": "",
      "metadata": {},
      "execution_count": null,
      "outputs": []
    }
  ]
}